{
 "cells": [
  {
   "cell_type": "markdown",
   "id": "fe12c203-e6a6-452c-a655-afb8a03a4ff5",
   "metadata": {},
   "source": [
    "# End of week 1 exercise\n",
    "\n",
    "To demonstrate your familiarity with OpenAI API, and also Ollama, build a tool that takes a technical question,  \n",
    "and responds with an explanation. This is a tool that you will be able to use yourself during the course!"
   ]
  },
  {
   "cell_type": "code",
   "execution_count": 48,
   "id": "c1070317-3ed9-4659-abe3-828943230e03",
   "metadata": {},
   "outputs": [],
   "source": [
    "# imports\n",
    "import os\n",
    "import requests\n",
    "import json\n",
    "import ollama\n",
    "import time\n",
    "from typing import List\n",
    "from dotenv import load_dotenv\n",
    "from IPython.display import Markdown, display, update_display\n",
    "from openai import OpenAI"
   ]
  },
  {
   "cell_type": "code",
   "execution_count": 31,
   "id": "4a456906-915a-4bfd-bb9d-57e505c5093f",
   "metadata": {},
   "outputs": [],
   "source": [
    "# constants\n",
    "\n",
    "OLLAMA_API = \"http://localhost:11434/api/chat\"\n",
    "HEADERS = {\"Content-Type\": \"application/json\"}\n",
    "MODEL_GPT = 'gpt-4o-mini'\n",
    "MODEL_LLAMA = 'llama3.2'"
   ]
  },
  {
   "cell_type": "code",
   "execution_count": 32,
   "id": "a8d7923c-5f28-4c30-8556-342d7c8497c1",
   "metadata": {},
   "outputs": [
    {
     "name": "stdout",
     "output_type": "stream",
     "text": [
      "API key looks good so far\n"
     ]
    }
   ],
   "source": [
    "# set up environment\n",
    "\n",
    "load_dotenv(override=True)\n",
    "api_key = os.getenv('OPENAI_API_KEY')\n",
    "\n",
    "if api_key and api_key.startswith('sk-proj-') and len(api_key)>10:\n",
    "    print(\"API key looks good so far\")\n",
    "else:\n",
    "    print(\"There might be a problem with your API key? Please visit the troubleshooting notebook!\")\n",
    "    \n",
    "openai = OpenAI()"
   ]
  },
  {
   "cell_type": "code",
   "execution_count": 121,
   "id": "3f0d0137-52b0-47a8-81a8-11a90a010798",
   "metadata": {},
   "outputs": [
    {
     "name": "stdin",
     "output_type": "stream",
     "text": [
      "Please enter line of code that needs explanation: yield from {book.get(\"author\") from book in books if book.get(\"author\")}\n"
     ]
    },
    {
     "name": "stdout",
     "output_type": "stream",
     "text": [
      "\n",
      "Please explain what this code does and why:\n",
      "yield from {book.get(\"author\") from book in books if book.get(\"author\")}\n"
     ]
    }
   ],
   "source": [
    "# here is the question; type over this to ask something new\n",
    "\n",
    "question = \"\"\"\n",
    "Please explain what this code does and why:\n",
    "\"\"\"\n",
    "line_of_code=input(\"Please enter line of code that needs explanation:\")\n",
    "question += line_of_code\n",
    "print (question)"
   ]
  },
  {
   "cell_type": "code",
   "execution_count": 122,
   "id": "2d7fae80-1b95-4ffd-9766-7b78af72cecf",
   "metadata": {},
   "outputs": [],
   "source": [
    "system_prompt = \"You are a technical assistant who can review a line of code and explain what this line of code does, \\\n",
    "with a technical breakdown of each piece of the code, and a one line summary in plain english at the end.\""
   ]
  },
  {
   "cell_type": "code",
   "execution_count": 119,
   "id": "60ce7000-a4a5-4cce-a261-e75ef45063b4",
   "metadata": {},
   "outputs": [],
   "source": [
    "# Get gpt-4o-mini to answer, with streaming\n",
    "def tech_copilot_gpt(question,model):\n",
    "    stream = openai.chat.completions.create(\n",
    "        model=model,\n",
    "        messages=[\n",
    "            {\"role\": \"system\", \"content\": system_prompt},\n",
    "            {\"role\": \"user\", \"content\": question}\n",
    "          ],\n",
    "        stream=True\n",
    "    )\n",
    "    response = \"\"\n",
    "    display_handle = display(Markdown(\"\"), display_id=True)\n",
    "    for chunk in stream:\n",
    "        response += chunk.choices[0].delta.content or ''\n",
    "        response = response.replace(\"```\",\"\").replace(\"markdown\", \"\")\n",
    "        update_display(Markdown(response), display_id=display_handle.display_id)\n",
    "    "
   ]
  },
  {
   "cell_type": "code",
   "execution_count": 123,
   "id": "f14430c6-ee42-499d-aa83-d68e9ff96ba3",
   "metadata": {},
   "outputs": [
    {
     "data": {
      "text/markdown": [
       "Let's break down the line of code provided:\n",
       "\n",
       "1. **`yield from`**: This is a Python keyword used in generator functions. It allows a generator to yield all values from another iterable. In this case, it indicates that the function is yielding values from an iterable that follows.\n",
       "\n",
       "2. **`{book.get(\"author\") for book in books if book.get(\"author\")}`**: This part is a set comprehension. Set comprehensions are used to construct a set based on a given iterable. They are similar to list comprehensions but create a set instead of a list. \n",
       "\n",
       "    a. **`book.get(\"author\")`**: This is calling the `get` method on each `book` dictionary within the iterable `books`. It retrieves the value associated with the key `\"author\"`. If the key does not exist, `get` would return `None`, which is handled by the next part.\n",
       "    \n",
       "    b. **`for book in books`**: This iterates over each `book` in a collection named `books`. `books` is expected to be an iterable (like a list or set) of dictionaries, where each dictionary represents a book.\n",
       "\n",
       "    c. **`if book.get(\"author\")`**: This conditional filters out books where the `get` method does not return a truthy value (i.e., it filters out cases where the author is `None` or does not exist). Thus, only books with valid authors are included.\n",
       "\n",
       "3. **Summary**: This code efficiently collects unique authors from a collection of book dictionaries, yielding them one by one.\n",
       "\n",
       "### One-line summary:\n",
       "This code yields unique authors from a collection of books, filtering out any entries without an author."
      ],
      "text/plain": [
       "<IPython.core.display.Markdown object>"
      ]
     },
     "metadata": {},
     "output_type": "display_data"
    }
   ],
   "source": [
    "tech_copilot_gpt(question,MODEL_GPT)"
   ]
  },
  {
   "cell_type": "code",
   "execution_count": 125,
   "id": "8f7c8ea8-4082-4ad0-8751-3301adcf6538",
   "metadata": {},
   "outputs": [],
   "source": [
    "# Get Llama 3.2 to answer\n",
    "\n",
    "def tech_copilot_llama_1(question,model):\n",
    "    payload = {\n",
    "            \"model\": model,\n",
    "            \"messages\":[\n",
    "                {\"role\": \"system\", \"content\": system_prompt},\n",
    "                {\"role\": \"user\", \"content\": question},\n",
    "            ],\n",
    "            \"stream\": True \n",
    "        }\n",
    "    \n",
    "    stream = requests.post(OLLAMA_API, json=payload, headers=HEADERS)\n",
    "    response = \"\"\n",
    "    display_handle = display(Markdown(\"\"), display_id=True)\n",
    "    for chunk in stream.iter_lines():\n",
    "        decoded_data = chunk.decode(\"utf-8\")\n",
    "        parsed_json = json.loads(decoded_data)  # Parse JSON\n",
    "        response += parsed_json[\"message\"][\"content\"] or ''\n",
    "        response = response.replace(\"```\",\"\").replace(\"markdown\", \"\")\n",
    "        update_display(Markdown(response), display_id=display_handle.display_id)\n",
    "\n",
    "def tech_copilot_llama_2(question,model):\n",
    "    messages =[\n",
    "                {\"role\": \"system\", \"content\": system_prompt},\n",
    "                {\"role\": \"user\", \"content\": question},\n",
    "            ]\n",
    "    response = ollama.chat(model=model, messages=messages)\n",
    "    reply = response['message']['content']\n",
    "    display(Markdown(reply))"
   ]
  },
  {
   "cell_type": "code",
   "execution_count": 126,
   "id": "977652f1-fbdf-4a0e-bc29-8d563443cb7a",
   "metadata": {},
   "outputs": [
    {
     "data": {
      "text/markdown": [
       "Here's a technical breakdown of the code:\n",
       "\n",
       "```python\n",
       "yield from {book.get(\"author\") for book in books if book.get(\"author\")}\n",
       "```\n",
       "\n",
       "This line of code is using a feature called \"Generator Expression\" in Python, which allows you to create and iterate over an iterable (such as a list or dictionary) without having to explicitly define a function.\n",
       "\n",
       "**Here's what each part does:**\n",
       "\n",
       "* `{...}` creates a new iterator that yields values from the expression inside.\n",
       "* `book.get(\"author\")` is used to extract the value of the \"author\" key from each book dictionary. If the key doesn't exist, it returns `None`.\n",
       "* `for book in books` iterates over the list of books (`books`).\n",
       "* `if book.get(\"author\")` filters out books that don't have an author.\n",
       "* `yield from {...}` is a syntax sugar for a loop that yields values from another iterator. In this case, it's yielding all values from the generator expression inside `{...}`.\n",
       "\n",
       "So, when you put it all together, this line of code:\n",
       "\n",
       "1. Filters out books without authors.\n",
       "2. Yields the author name for each remaining book.\n",
       "\n",
       "**Why is this useful?**\n",
       "\n",
       "This code is likely being used in a context where we want to process books with authors, but don't care about non-author books. By using a generator expression and `yield from`, we can efficiently iterate over only the relevant data without having to store it all in memory at once.\n",
       "\n",
       "**One line summary:** This code generates a sequence of author names from a list of books, filtering out books without authors."
      ],
      "text/plain": [
       "<IPython.core.display.Markdown object>"
      ]
     },
     "metadata": {},
     "output_type": "display_data"
    }
   ],
   "source": [
    "tech_copilot_llama_2(question,MODEL_LLAMA)"
   ]
  },
  {
   "cell_type": "code",
   "execution_count": null,
   "id": "8f7e008b-f85f-4f3b-b637-a2a681c2244a",
   "metadata": {},
   "outputs": [],
   "source": []
  }
 ],
 "metadata": {
  "kernelspec": {
   "display_name": "Python 3 (ipykernel)",
   "language": "python",
   "name": "python3"
  },
  "language_info": {
   "codemirror_mode": {
    "name": "ipython",
    "version": 3
   },
   "file_extension": ".py",
   "mimetype": "text/x-python",
   "name": "python",
   "nbconvert_exporter": "python",
   "pygments_lexer": "ipython3",
   "version": "3.11.11"
  }
 },
 "nbformat": 4,
 "nbformat_minor": 5
}
